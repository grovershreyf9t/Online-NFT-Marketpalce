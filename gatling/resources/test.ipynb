{
 "cells": [
  {
   "cell_type": "code",
   "execution_count": 2,
   "metadata": {},
   "outputs": [],
   "source": [
    "import pandas as pd\n",
    "import numpy as np\n",
    "from uuid import uuid4\n",
    "from datetime import datetime"
   ]
  },
  {
   "cell_type": "code",
   "execution_count": 3,
   "metadata": {},
   "outputs": [],
   "source": [
    "users_df = pd.DataFrame.from_records([{\n",
    "        \"users_id\": str(uuid4()),\n",
    "        \"username\": \"user_\" + str(i+1),\n",
    "        \"password\": \"pass_\" + str(i+1),\n",
    "        \"users_role\": \"buyer\"\n",
    "    }\n",
    "for i in range(4000)])"
   ]
  },
  {
   "cell_type": "code",
   "execution_count": 4,
   "metadata": {},
   "outputs": [],
   "source": [
    "users_df.to_csv(\"users.csv\",index=False)"
   ]
  },
  {
   "cell_type": "code",
   "execution_count": 5,
   "metadata": {},
   "outputs": [],
   "source": [
    "def create_image_func(row, image_data):\n",
    "\n",
    "    for i in range(10):\n",
    "        dct = {\n",
    "            \"images_id\": uuid4(),\n",
    "            \"users_id\": row[\"users_id\"],\n",
    "            \"uploaded_on\": datetime.now().strftime(\"%Y-%m-%dT%H:%M:%S\")\n",
    "        }\n",
    "\n",
    "        image_data.append(dct)"
   ]
  },
  {
   "cell_type": "code",
   "execution_count": 6,
   "metadata": {},
   "outputs": [
    {
     "data": {
      "text/plain": [
       "0       None\n",
       "1       None\n",
       "2       None\n",
       "3       None\n",
       "4       None\n",
       "        ... \n",
       "3995    None\n",
       "3996    None\n",
       "3997    None\n",
       "3998    None\n",
       "3999    None\n",
       "Length: 4000, dtype: object"
      ]
     },
     "execution_count": 6,
     "metadata": {},
     "output_type": "execute_result"
    }
   ],
   "source": [
    "image_data = []\n",
    "users_df.apply(create_image_func, axis=1, args=(image_data,))"
   ]
  },
  {
   "cell_type": "code",
   "execution_count": 7,
   "metadata": {},
   "outputs": [],
   "source": [
    "images_df = pd.DataFrame.from_records(image_data)\n",
    "images_df.to_csv(\"images.csv\",index=False)"
   ]
  },
  {
   "cell_type": "code",
   "execution_count": 8,
   "metadata": {},
   "outputs": [],
   "source": [
    "def create_transaction_func(row, transaction_data):\n",
    "\n",
    "    dct = {\n",
    "        \"transactions_id\": str(uuid4()), \n",
    "        \"images_id\": row[\"images_id\"],\n",
    "        \"seller_id\": row[\"users_id\"],\n",
    "        \"sold\": False\n",
    "    }\n",
    "\n",
    "    transaction_data.append(dct)"
   ]
  },
  {
   "cell_type": "code",
   "execution_count": 9,
   "metadata": {},
   "outputs": [
    {
     "data": {
      "text/plain": [
       "0        None\n",
       "1        None\n",
       "2        None\n",
       "3        None\n",
       "4        None\n",
       "         ... \n",
       "39995    None\n",
       "39996    None\n",
       "39997    None\n",
       "39998    None\n",
       "39999    None\n",
       "Length: 40000, dtype: object"
      ]
     },
     "execution_count": 9,
     "metadata": {},
     "output_type": "execute_result"
    }
   ],
   "source": [
    "transaction_data = []\n",
    "images_df.apply(create_transaction_func, axis=1, args=(transaction_data,))"
   ]
  },
  {
   "cell_type": "code",
   "execution_count": 10,
   "metadata": {},
   "outputs": [],
   "source": [
    "transactions_df = pd.DataFrame.from_records(transaction_data)\n",
    "transactions_df.to_csv(\"transactions.csv\",index=False)"
   ]
  },
  {
   "cell_type": "code",
   "execution_count": null,
   "metadata": {},
   "outputs": [],
   "source": []
  }
 ],
 "metadata": {
  "interpreter": {
   "hash": "df0893f56f349688326838aaeea0de204df53a132722cbd565e54b24a8fec5f6"
  },
  "kernelspec": {
   "display_name": "Python 3.8.0 64-bit",
   "name": "python3"
  },
  "language_info": {
   "codemirror_mode": {
    "name": "ipython",
    "version": 3
   },
   "file_extension": ".py",
   "mimetype": "text/x-python",
   "name": "python",
   "nbconvert_exporter": "python",
   "pygments_lexer": "ipython3",
   "version": "3.8.10"
  },
  "orig_nbformat": 4
 },
 "nbformat": 4,
 "nbformat_minor": 2
}
